{
 "cells": [
  {
   "metadata": {},
   "cell_type": "markdown",
   "source": "# Analyse",
   "id": "dabf61a71daa719"
  },
  {
   "metadata": {
    "ExecuteTime": {
     "end_time": "2024-12-04T14:26:45.696814Z",
     "start_time": "2024-12-04T14:26:45.691154Z"
    }
   },
   "cell_type": "code",
   "source": [
    "import pandas as pd\n",
    "import seaborn as sns\n",
    "from matplotlib import pyplot as plt"
   ],
   "id": "initial_id",
   "outputs": [],
   "execution_count": 162
  },
  {
   "cell_type": "code",
   "source": [
    "#data = pd.read_csv(\"results/f1-r@k_02-12-24:14:40:02.csv\", index_col=0)\n",
    "data = pd.read_csv(\"results/f1-r@k_04-12-24:13:58:13.csv\", index_col=0)\n",
    "#data = pd.read_csv(\"results/times-03-12-24:09:16:32.csv\", index_col=0)\n",
    "data['Initial Sample'] = data['Initial Sample'].astype(str)\n",
    "#data['index'] = data['count'].astype(str)\n"
   ],
   "metadata": {
    "collapsed": false,
    "ExecuteTime": {
     "end_time": "2024-12-04T14:26:55.988274Z",
     "start_time": "2024-12-04T14:26:55.981400Z"
    }
   },
   "id": "d12fd21f572ecad1",
   "outputs": [],
   "execution_count": 164
  },
  {
   "cell_type": "code",
   "source": "data.head()",
   "metadata": {
    "collapsed": false,
    "ExecuteTime": {
     "end_time": "2024-12-04T14:29:24.112041Z",
     "start_time": "2024-12-04T14:29:24.101810Z"
    }
   },
   "id": "3ad0919f686ee818",
   "outputs": [
    {
     "data": {
      "text/plain": [
       "   Runs Initial Sample  Query Sample  Precision on Lattice  Recall on Lattice  \\\n",
       "0   0.0            0.1           0.1                 0.200           0.021277   \n",
       "1   0.0            0.1           0.2                 0.625           0.106383   \n",
       "2   0.0            0.1           0.3                 0.500           0.063830   \n",
       "3   0.0            0.1           0.4                 0.750           0.127660   \n",
       "4   0.0            0.1           0.5                 0.600           0.127660   \n",
       "\n",
       "   F1 on Lattice  Recall@k on Lattice  Precision on Queries  \\\n",
       "0       0.038462                  0.0                 0.200   \n",
       "1       0.181818                  0.1                 0.625   \n",
       "2       0.113208                  0.0                 0.500   \n",
       "3       0.218182                  0.3                 0.750   \n",
       "4       0.210526                  0.1                 0.600   \n",
       "\n",
       "   Recall on Queries  F1 on Queries  Recall@k on Queries     k  \n",
       "0           0.021277       0.038462                  0.0  10.0  \n",
       "1           0.106383       0.181818                  0.1  10.0  \n",
       "2           0.063830       0.113208                  0.0  10.0  \n",
       "3           0.127660       0.218182                  0.2  10.0  \n",
       "4           0.127660       0.210526                  0.1  10.0  "
      ],
      "text/html": [
       "<div>\n",
       "<style scoped>\n",
       "    .dataframe tbody tr th:only-of-type {\n",
       "        vertical-align: middle;\n",
       "    }\n",
       "\n",
       "    .dataframe tbody tr th {\n",
       "        vertical-align: top;\n",
       "    }\n",
       "\n",
       "    .dataframe thead th {\n",
       "        text-align: right;\n",
       "    }\n",
       "</style>\n",
       "<table border=\"1\" class=\"dataframe\">\n",
       "  <thead>\n",
       "    <tr style=\"text-align: right;\">\n",
       "      <th></th>\n",
       "      <th>Runs</th>\n",
       "      <th>Initial Sample</th>\n",
       "      <th>Query Sample</th>\n",
       "      <th>Precision on Lattice</th>\n",
       "      <th>Recall on Lattice</th>\n",
       "      <th>F1 on Lattice</th>\n",
       "      <th>Recall@k on Lattice</th>\n",
       "      <th>Precision on Queries</th>\n",
       "      <th>Recall on Queries</th>\n",
       "      <th>F1 on Queries</th>\n",
       "      <th>Recall@k on Queries</th>\n",
       "      <th>k</th>\n",
       "    </tr>\n",
       "  </thead>\n",
       "  <tbody>\n",
       "    <tr>\n",
       "      <th>0</th>\n",
       "      <td>0.0</td>\n",
       "      <td>0.1</td>\n",
       "      <td>0.1</td>\n",
       "      <td>0.200</td>\n",
       "      <td>0.021277</td>\n",
       "      <td>0.038462</td>\n",
       "      <td>0.0</td>\n",
       "      <td>0.200</td>\n",
       "      <td>0.021277</td>\n",
       "      <td>0.038462</td>\n",
       "      <td>0.0</td>\n",
       "      <td>10.0</td>\n",
       "    </tr>\n",
       "    <tr>\n",
       "      <th>1</th>\n",
       "      <td>0.0</td>\n",
       "      <td>0.1</td>\n",
       "      <td>0.2</td>\n",
       "      <td>0.625</td>\n",
       "      <td>0.106383</td>\n",
       "      <td>0.181818</td>\n",
       "      <td>0.1</td>\n",
       "      <td>0.625</td>\n",
       "      <td>0.106383</td>\n",
       "      <td>0.181818</td>\n",
       "      <td>0.1</td>\n",
       "      <td>10.0</td>\n",
       "    </tr>\n",
       "    <tr>\n",
       "      <th>2</th>\n",
       "      <td>0.0</td>\n",
       "      <td>0.1</td>\n",
       "      <td>0.3</td>\n",
       "      <td>0.500</td>\n",
       "      <td>0.063830</td>\n",
       "      <td>0.113208</td>\n",
       "      <td>0.0</td>\n",
       "      <td>0.500</td>\n",
       "      <td>0.063830</td>\n",
       "      <td>0.113208</td>\n",
       "      <td>0.0</td>\n",
       "      <td>10.0</td>\n",
       "    </tr>\n",
       "    <tr>\n",
       "      <th>3</th>\n",
       "      <td>0.0</td>\n",
       "      <td>0.1</td>\n",
       "      <td>0.4</td>\n",
       "      <td>0.750</td>\n",
       "      <td>0.127660</td>\n",
       "      <td>0.218182</td>\n",
       "      <td>0.3</td>\n",
       "      <td>0.750</td>\n",
       "      <td>0.127660</td>\n",
       "      <td>0.218182</td>\n",
       "      <td>0.2</td>\n",
       "      <td>10.0</td>\n",
       "    </tr>\n",
       "    <tr>\n",
       "      <th>4</th>\n",
       "      <td>0.0</td>\n",
       "      <td>0.1</td>\n",
       "      <td>0.5</td>\n",
       "      <td>0.600</td>\n",
       "      <td>0.127660</td>\n",
       "      <td>0.210526</td>\n",
       "      <td>0.1</td>\n",
       "      <td>0.600</td>\n",
       "      <td>0.127660</td>\n",
       "      <td>0.210526</td>\n",
       "      <td>0.1</td>\n",
       "      <td>10.0</td>\n",
       "    </tr>\n",
       "  </tbody>\n",
       "</table>\n",
       "</div>"
      ]
     },
     "execution_count": 166,
     "metadata": {},
     "output_type": "execute_result"
    }
   ],
   "execution_count": 166
  },
  {
   "metadata": {
    "ExecuteTime": {
     "end_time": "2024-12-02T16:09:56.843683Z",
     "start_time": "2024-12-02T16:09:56.831550Z"
    }
   },
   "cell_type": "code",
   "source": [
    "pivot = pd.pivot_table(data, values=\"F1 on Queries\", index='Initial Sample', columns=['Query Sample'], aggfunc=\"mean\")\n",
    "#pivot = pd.pivot_table(data, values=\"F1 on Queries\", index='Initial Sample', columns=['Query Sample'], aggfunc=\"mean\")\n",
    "pivot"
   ],
   "id": "8a5b6f6cb3461961",
   "outputs": [
    {
     "data": {
      "text/plain": [
       "Query Sample         0.1       0.2       0.3       0.4       0.5       0.6  \\\n",
       "Initial Sample                                                               \n",
       "0.1             0.997765  0.996648  0.997753  1.000000  0.995518  0.997765   \n",
       "0.2             0.996648  0.997753  0.997765  0.996648  0.997765  0.997765   \n",
       "0.3             1.000000  0.998883  1.000000  0.998883  0.998883  1.000000   \n",
       "0.4             1.000000  0.998883  1.000000  1.000000  1.000000  1.000000   \n",
       "0.5             1.000000  1.000000  1.000000  1.000000  1.000000  1.000000   \n",
       "0.6             1.000000  1.000000  1.000000  1.000000  1.000000  1.000000   \n",
       "0.7             1.000000  1.000000  1.000000  1.000000  1.000000  1.000000   \n",
       "0.8             1.000000  1.000000  1.000000  1.000000  1.000000  1.000000   \n",
       "0.9             1.000000  1.000000  1.000000  1.000000  1.000000  1.000000   \n",
       "1.0             1.000000  1.000000  1.000000  1.000000  1.000000  1.000000   \n",
       "\n",
       "Query Sample         0.7       0.8       0.9       1.0  \n",
       "Initial Sample                                          \n",
       "0.1             0.997753  0.997765  0.997765  1.000000  \n",
       "0.2             0.998883  1.000000  0.998883  0.998883  \n",
       "0.3             1.000000  0.998883  0.998883  1.000000  \n",
       "0.4             0.998883  1.000000  1.000000  1.000000  \n",
       "0.5             1.000000  1.000000  1.000000  1.000000  \n",
       "0.6             1.000000  1.000000  1.000000  1.000000  \n",
       "0.7             1.000000  1.000000  1.000000  1.000000  \n",
       "0.8             1.000000  1.000000  1.000000  1.000000  \n",
       "0.9             1.000000  1.000000  1.000000  1.000000  \n",
       "1.0             1.000000  1.000000  1.000000  1.000000  "
      ],
      "text/html": [
       "<div>\n",
       "<style scoped>\n",
       "    .dataframe tbody tr th:only-of-type {\n",
       "        vertical-align: middle;\n",
       "    }\n",
       "\n",
       "    .dataframe tbody tr th {\n",
       "        vertical-align: top;\n",
       "    }\n",
       "\n",
       "    .dataframe thead th {\n",
       "        text-align: right;\n",
       "    }\n",
       "</style>\n",
       "<table border=\"1\" class=\"dataframe\">\n",
       "  <thead>\n",
       "    <tr style=\"text-align: right;\">\n",
       "      <th>Query Sample</th>\n",
       "      <th>0.1</th>\n",
       "      <th>0.2</th>\n",
       "      <th>0.3</th>\n",
       "      <th>0.4</th>\n",
       "      <th>0.5</th>\n",
       "      <th>0.6</th>\n",
       "      <th>0.7</th>\n",
       "      <th>0.8</th>\n",
       "      <th>0.9</th>\n",
       "      <th>1.0</th>\n",
       "    </tr>\n",
       "    <tr>\n",
       "      <th>Initial Sample</th>\n",
       "      <th></th>\n",
       "      <th></th>\n",
       "      <th></th>\n",
       "      <th></th>\n",
       "      <th></th>\n",
       "      <th></th>\n",
       "      <th></th>\n",
       "      <th></th>\n",
       "      <th></th>\n",
       "      <th></th>\n",
       "    </tr>\n",
       "  </thead>\n",
       "  <tbody>\n",
       "    <tr>\n",
       "      <th>0.1</th>\n",
       "      <td>0.997765</td>\n",
       "      <td>0.996648</td>\n",
       "      <td>0.997753</td>\n",
       "      <td>1.000000</td>\n",
       "      <td>0.995518</td>\n",
       "      <td>0.997765</td>\n",
       "      <td>0.997753</td>\n",
       "      <td>0.997765</td>\n",
       "      <td>0.997765</td>\n",
       "      <td>1.000000</td>\n",
       "    </tr>\n",
       "    <tr>\n",
       "      <th>0.2</th>\n",
       "      <td>0.996648</td>\n",
       "      <td>0.997753</td>\n",
       "      <td>0.997765</td>\n",
       "      <td>0.996648</td>\n",
       "      <td>0.997765</td>\n",
       "      <td>0.997765</td>\n",
       "      <td>0.998883</td>\n",
       "      <td>1.000000</td>\n",
       "      <td>0.998883</td>\n",
       "      <td>0.998883</td>\n",
       "    </tr>\n",
       "    <tr>\n",
       "      <th>0.3</th>\n",
       "      <td>1.000000</td>\n",
       "      <td>0.998883</td>\n",
       "      <td>1.000000</td>\n",
       "      <td>0.998883</td>\n",
       "      <td>0.998883</td>\n",
       "      <td>1.000000</td>\n",
       "      <td>1.000000</td>\n",
       "      <td>0.998883</td>\n",
       "      <td>0.998883</td>\n",
       "      <td>1.000000</td>\n",
       "    </tr>\n",
       "    <tr>\n",
       "      <th>0.4</th>\n",
       "      <td>1.000000</td>\n",
       "      <td>0.998883</td>\n",
       "      <td>1.000000</td>\n",
       "      <td>1.000000</td>\n",
       "      <td>1.000000</td>\n",
       "      <td>1.000000</td>\n",
       "      <td>0.998883</td>\n",
       "      <td>1.000000</td>\n",
       "      <td>1.000000</td>\n",
       "      <td>1.000000</td>\n",
       "    </tr>\n",
       "    <tr>\n",
       "      <th>0.5</th>\n",
       "      <td>1.000000</td>\n",
       "      <td>1.000000</td>\n",
       "      <td>1.000000</td>\n",
       "      <td>1.000000</td>\n",
       "      <td>1.000000</td>\n",
       "      <td>1.000000</td>\n",
       "      <td>1.000000</td>\n",
       "      <td>1.000000</td>\n",
       "      <td>1.000000</td>\n",
       "      <td>1.000000</td>\n",
       "    </tr>\n",
       "    <tr>\n",
       "      <th>0.6</th>\n",
       "      <td>1.000000</td>\n",
       "      <td>1.000000</td>\n",
       "      <td>1.000000</td>\n",
       "      <td>1.000000</td>\n",
       "      <td>1.000000</td>\n",
       "      <td>1.000000</td>\n",
       "      <td>1.000000</td>\n",
       "      <td>1.000000</td>\n",
       "      <td>1.000000</td>\n",
       "      <td>1.000000</td>\n",
       "    </tr>\n",
       "    <tr>\n",
       "      <th>0.7</th>\n",
       "      <td>1.000000</td>\n",
       "      <td>1.000000</td>\n",
       "      <td>1.000000</td>\n",
       "      <td>1.000000</td>\n",
       "      <td>1.000000</td>\n",
       "      <td>1.000000</td>\n",
       "      <td>1.000000</td>\n",
       "      <td>1.000000</td>\n",
       "      <td>1.000000</td>\n",
       "      <td>1.000000</td>\n",
       "    </tr>\n",
       "    <tr>\n",
       "      <th>0.8</th>\n",
       "      <td>1.000000</td>\n",
       "      <td>1.000000</td>\n",
       "      <td>1.000000</td>\n",
       "      <td>1.000000</td>\n",
       "      <td>1.000000</td>\n",
       "      <td>1.000000</td>\n",
       "      <td>1.000000</td>\n",
       "      <td>1.000000</td>\n",
       "      <td>1.000000</td>\n",
       "      <td>1.000000</td>\n",
       "    </tr>\n",
       "    <tr>\n",
       "      <th>0.9</th>\n",
       "      <td>1.000000</td>\n",
       "      <td>1.000000</td>\n",
       "      <td>1.000000</td>\n",
       "      <td>1.000000</td>\n",
       "      <td>1.000000</td>\n",
       "      <td>1.000000</td>\n",
       "      <td>1.000000</td>\n",
       "      <td>1.000000</td>\n",
       "      <td>1.000000</td>\n",
       "      <td>1.000000</td>\n",
       "    </tr>\n",
       "    <tr>\n",
       "      <th>1.0</th>\n",
       "      <td>1.000000</td>\n",
       "      <td>1.000000</td>\n",
       "      <td>1.000000</td>\n",
       "      <td>1.000000</td>\n",
       "      <td>1.000000</td>\n",
       "      <td>1.000000</td>\n",
       "      <td>1.000000</td>\n",
       "      <td>1.000000</td>\n",
       "      <td>1.000000</td>\n",
       "      <td>1.000000</td>\n",
       "    </tr>\n",
       "  </tbody>\n",
       "</table>\n",
       "</div>"
      ]
     },
     "execution_count": 90,
     "metadata": {},
     "output_type": "execute_result"
    }
   ],
   "execution_count": 90
  },
  {
   "metadata": {
    "ExecuteTime": {
     "end_time": "2024-12-02T16:09:59.510102Z",
     "start_time": "2024-12-02T16:09:59.370699Z"
    }
   },
   "cell_type": "code",
   "source": "sns.heatmap(pivot, vmin=0, vmax=0.2)",
   "id": "1a99d7b081577f5d",
   "outputs": [
    {
     "data": {
      "text/plain": [
       "<Axes: xlabel='Query Sample', ylabel='Initial Sample'>"
      ]
     },
     "execution_count": 91,
     "metadata": {},
     "output_type": "execute_result"
    },
    {
     "data": {
      "text/plain": [
       "<Figure size 640x480 with 2 Axes>"
      ],
      "image/png": "[encoded data removed]"
     },
     "metadata": {},
     "output_type": "display_data"
    }
   ],
   "execution_count": 91
  },
  {
   "metadata": {
    "ExecuteTime": {
     "end_time": "2024-12-04T14:31:53.088948Z",
     "start_time": "2024-12-04T14:31:52.289066Z"
    }
   },
   "cell_type": "code",
   "source": [
    "a4_dims = (12, 8)\n",
    "fig, ax = plt.subplots(figsize=a4_dims)\n",
    "#x=\"count\"\n",
    "#y=\"Time\"\n",
    "#hue=\"Index\"\n",
    "x= \"Query Sample\"\n",
    "#y = \"F1 on Queries\"\n",
    "y= \"Recall@k on Queries\"\n",
    "hue=\"Initial Sample\"\n",
    "#plot=sns.lineplot(ax=ax,data=data,x=x,y=y,hue=hue,)\n",
    "plot=sns.boxplot(ax=ax,data=data, x=x, y=y, hue=hue,)"
   ],
   "id": "a03e224062ffd584",
   "outputs": [
    {
     "data": {
      "text/plain": [
       "<Figure size 1200x800 with 1 Axes>"
      ],
      "image/png": "[encoded data removed]"
     },
     "metadata": {},
     "output_type": "display_data"
    }
   ],
   "execution_count": 169
  },
  {
   "metadata": {
    "ExecuteTime": {
     "end_time": "2024-12-03T10:16:41.052215Z",
     "start_time": "2024-12-03T10:16:40.958362Z"
    }
   },
   "cell_type": "code",
   "source": [
    "save=plot.get_figure()\n",
    "name=\"figures/test_\"+y+\"_\"+x+\"_\"+hue+\".png\"\n",
    "save.savefig(name)"
   ],
   "id": "265a26f0e0262361",
   "outputs": [],
   "execution_count": 161
  }
 ],
 "metadata": {
  "kernelspec": {
   "display_name": "Python 3",
   "language": "python",
   "name": "python3"
  },
  "language_info": {
   "codemirror_mode": {
    "name": "ipython",
    "version": 2
   },
   "file_extension": ".py",
   "mimetype": "text/x-python",
   "name": "python",
   "nbconvert_exporter": "python",
   "pygments_lexer": "ipython2",
   "version": "2.7.6"
  }
 },
 "nbformat": 4,
 "nbformat_minor": 5
}
