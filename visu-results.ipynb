{
 "cells": [
  {
   "metadata": {},
   "cell_type": "markdown",
   "source": "# Load",
   "id": "dabf61a71daa719"
  },
  {
   "metadata": {
    "ExecuteTime": {
     "end_time": "2024-07-17T05:36:21.825227Z",
     "start_time": "2024-07-17T05:36:21.821914Z"
    }
   },
   "cell_type": "code",
   "source": "import pandas as pd",
   "id": "initial_id",
   "outputs": [],
   "execution_count": 27
  },
  {
   "cell_type": "code",
   "source": [
    "data = pd.read_csv(\"data/normalized_all.csv\")\n",
    "metric = \"Entropy\"\n",
    "clustering = \"kmedoid\"\n",
    "#& (data.Model == \"RF\")\n",
    "purity = data[(data.Metric == metric)  & (data.Clustering == clustering)].drop([\"Metric\", \"Instances\", \"Clustering\"], axis = 1)"
   ],
   "metadata": {
    "collapsed": false,
    "ExecuteTime": {
     "end_time": "2024-07-17T05:36:21.879725Z",
     "start_time": "2024-07-17T05:36:21.852493Z"
    }
   },
   "id": "d12fd21f572ecad1",
   "outputs": [],
   "execution_count": 28
  },
  {
   "cell_type": "code",
   "source": [
    "purity.head()"
   ],
   "metadata": {
    "collapsed": false,
    "ExecuteTime": {
     "end_time": "2024-07-17T05:36:21.891225Z",
     "start_time": "2024-07-17T05:36:21.881762Z"
    }
   },
   "id": "3ad0919f686ee818",
   "outputs": [
    {
     "data": {
      "text/plain": [
       "     Model  Xai  Percentage  dataset_id     value\n",
       "1944    RF  Raw        0.01           0  0.799426\n",
       "1945    RF  Raw        0.01           1  0.009228\n",
       "1946    RF  Raw        0.01           2  0.713140\n",
       "1947    RF  Raw        0.01           3  0.740925\n",
       "1948    RF  Raw        0.01           4  0.675331"
      ],
      "text/html": [
       "<div>\n",
       "<style scoped>\n",
       "    .dataframe tbody tr th:only-of-type {\n",
       "        vertical-align: middle;\n",
       "    }\n",
       "\n",
       "    .dataframe tbody tr th {\n",
       "        vertical-align: top;\n",
       "    }\n",
       "\n",
       "    .dataframe thead th {\n",
       "        text-align: right;\n",
       "    }\n",
       "</style>\n",
       "<table border=\"1\" class=\"dataframe\">\n",
       "  <thead>\n",
       "    <tr style=\"text-align: right;\">\n",
       "      <th></th>\n",
       "      <th>Model</th>\n",
       "      <th>Xai</th>\n",
       "      <th>Percentage</th>\n",
       "      <th>dataset_id</th>\n",
       "      <th>value</th>\n",
       "    </tr>\n",
       "  </thead>\n",
       "  <tbody>\n",
       "    <tr>\n",
       "      <th>1944</th>\n",
       "      <td>RF</td>\n",
       "      <td>Raw</td>\n",
       "      <td>0.01</td>\n",
       "      <td>0</td>\n",
       "      <td>0.799426</td>\n",
       "    </tr>\n",
       "    <tr>\n",
       "      <th>1945</th>\n",
       "      <td>RF</td>\n",
       "      <td>Raw</td>\n",
       "      <td>0.01</td>\n",
       "      <td>1</td>\n",
       "      <td>0.009228</td>\n",
       "    </tr>\n",
       "    <tr>\n",
       "      <th>1946</th>\n",
       "      <td>RF</td>\n",
       "      <td>Raw</td>\n",
       "      <td>0.01</td>\n",
       "      <td>2</td>\n",
       "      <td>0.713140</td>\n",
       "    </tr>\n",
       "    <tr>\n",
       "      <th>1947</th>\n",
       "      <td>RF</td>\n",
       "      <td>Raw</td>\n",
       "      <td>0.01</td>\n",
       "      <td>3</td>\n",
       "      <td>0.740925</td>\n",
       "    </tr>\n",
       "    <tr>\n",
       "      <th>1948</th>\n",
       "      <td>RF</td>\n",
       "      <td>Raw</td>\n",
       "      <td>0.01</td>\n",
       "      <td>4</td>\n",
       "      <td>0.675331</td>\n",
       "    </tr>\n",
       "  </tbody>\n",
       "</table>\n",
       "</div>"
      ]
     },
     "execution_count": 29,
     "metadata": {},
     "output_type": "execute_result"
    }
   ],
   "execution_count": 29
  },
  {
   "cell_type": "code",
   "source": [
    "purity[\"block\"] = purity.apply(lambda row : str(row[\"Percentage\"]) + \"-\" + str(row[\"dataset_id\"]), axis=1)\n",
    "purity[\"group\"] = purity.apply(lambda row : str(row[\"Xai\"]) + \"-\" + str(row[\"Model\"]), axis=1)\n",
    "data[\"group\"] = data.apply(lambda row : str(row[\"Xai\"]) + \"-\" + str(row[\"Model\"]), axis=1)"
   ],
   "metadata": {
    "collapsed": false,
    "ExecuteTime": {
     "end_time": "2024-07-17T05:36:22.126632Z",
     "start_time": "2024-07-17T05:36:21.893171Z"
    }
   },
   "id": "85219fde03d9259d",
   "outputs": [],
   "execution_count": 30
  },
  {
   "cell_type": "code",
   "source": [
    "import scikit_posthocs as sp\n",
    "test_results = sp.posthoc_nemenyi_friedman(purity, y_col='value', block_col='block', group_col='group', melted=True)\n",
    "avg_rank = purity.groupby('block').value.rank(pct=True).groupby(data.group).mean()\n",
    "sp.critical_difference_diagram(avg_rank, test_results, elbow_props={'color': 'gray'},)"
   ],
   "metadata": {
    "collapsed": false,
    "ExecuteTime": {
     "end_time": "2024-07-17T05:36:22.678473Z",
     "start_time": "2024-07-17T05:36:22.128935Z"
    }
   },
   "id": "bcb194e998ca6284",
   "outputs": [
    {
     "data": {
      "text/plain": [
       "{'markers': [<matplotlib.collections.PathCollection at 0x7fe3590302e0>,\n",
       "  <matplotlib.collections.PathCollection at 0x7fe359030d30>,\n",
       "  <matplotlib.collections.PathCollection at 0x7fe3590325c0>,\n",
       "  <matplotlib.collections.PathCollection at 0x7fe359031ba0>,\n",
       "  <matplotlib.collections.PathCollection at 0x7fe359031300>,\n",
       "  <matplotlib.collections.PathCollection at 0x7fe358e62a70>,\n",
       "  <matplotlib.collections.PathCollection at 0x7fe358e63580>,\n",
       "  <matplotlib.collections.PathCollection at 0x7fe358e63e50>,\n",
       "  <matplotlib.collections.PathCollection at 0x7fe358e615d0>,\n",
       "  <matplotlib.collections.PathCollection at 0x7fe358c70550>,\n",
       "  <matplotlib.collections.PathCollection at 0x7fe3590081c0>,\n",
       "  <matplotlib.collections.PathCollection at 0x7fe358c70eb0>],\n",
       " 'elbows': [<matplotlib.lines.Line2D at 0x7fe359030070>,\n",
       "  <matplotlib.lines.Line2D at 0x7fe359030a60>,\n",
       "  <matplotlib.lines.Line2D at 0x7fe359032830>,\n",
       "  <matplotlib.lines.Line2D at 0x7fe359031e40>,\n",
       "  <matplotlib.lines.Line2D at 0x7fe359031570>,\n",
       "  <matplotlib.lines.Line2D at 0x7fe358e627a0>,\n",
       "  <matplotlib.lines.Line2D at 0x7fe358e63310>,\n",
       "  <matplotlib.lines.Line2D at 0x7fe358e63be0>,\n",
       "  <matplotlib.lines.Line2D at 0x7fe358e61c60>,\n",
       "  <matplotlib.lines.Line2D at 0x7fe358c70310>,\n",
       "  <matplotlib.lines.Line2D at 0x7fe359020070>,\n",
       "  <matplotlib.lines.Line2D at 0x7fe358c70c70>],\n",
       " 'labels': [Text(0.20153846153846153, -3, 'SHAP-RF (0.21)'),\n",
       "  Text(0.20153846153846153, -4, 'Spearman-RF (0.22)'),\n",
       "  Text(0.20153846153846153, -5, 'SHAP-SVM (0.33)'),\n",
       "  Text(0.20153846153846153, -6, 'SHAP-LR (0.48)'),\n",
       "  Text(0.20153846153846153, -7, 'Spearman-SVM (0.51)'),\n",
       "  Text(0.20153846153846153, -8, 'LIME-RF (0.56)'),\n",
       "  Text(0.766054131054131, -3, '(0.76) LIME-LR'),\n",
       "  Text(0.766054131054131, -4, '(0.73) Raw-SVM'),\n",
       "  Text(0.766054131054131, -5, '(0.73) Raw-RF'),\n",
       "  Text(0.766054131054131, -6, '(0.73) Raw-LR'),\n",
       "  Text(0.766054131054131, -7, '(0.67) LIME-SVM'),\n",
       "  Text(0.766054131054131, -8, '(0.58) Spearman-LR')],\n",
       " 'crossbars': [[<matplotlib.lines.Line2D at 0x7fe359023520>],\n",
       "  [<matplotlib.lines.Line2D at 0x7fe359023850>],\n",
       "  [<matplotlib.lines.Line2D at 0x7fe359023af0>],\n",
       "  [<matplotlib.lines.Line2D at 0x7fe359023e20>]]}"
      ]
     },
     "execution_count": 31,
     "metadata": {},
     "output_type": "execute_result"
    },
    {
     "data": {
      "text/plain": [
       "<Figure size 640x480 with 1 Axes>"
      ],
      "image/png": "[encoded data removed]"
     },
     "metadata": {},
     "output_type": "display_data"
    }
   ],
   "execution_count": 31
  },
  {
   "cell_type": "code",
   "source": [
    "test_results"
   ],
   "metadata": {
    "collapsed": false,
    "ExecuteTime": {
     "end_time": "2024-07-17T05:36:22.700740Z",
     "start_time": "2024-07-17T05:36:22.680425Z"
    }
   },
   "id": "8dec4d48d4e1a1d3",
   "outputs": [
    {
     "data": {
      "text/plain": [
       "                Raw-RF  SHAP-RF  Spearman-RF   LIME-RF   Raw-SVM  SHAP-SVM  \\\n",
       "Raw-RF        1.000000    0.001     0.001000  0.001000  0.900000  0.001000   \n",
       "SHAP-RF       0.001000    1.000     0.900000  0.001000  0.001000  0.001000   \n",
       "Spearman-RF   0.001000    0.900     1.000000  0.001000  0.001000  0.002103   \n",
       "LIME-RF       0.001000    0.001     0.001000  1.000000  0.001000  0.001000   \n",
       "Raw-SVM       0.900000    0.001     0.001000  0.001000  1.000000  0.001000   \n",
       "SHAP-SVM      0.001000    0.001     0.002103  0.001000  0.001000  1.000000   \n",
       "Spearman-SVM  0.001000    0.001     0.001000  0.712467  0.001000  0.001000   \n",
       "LIME-SVM      0.700382    0.001     0.001000  0.004730  0.700382  0.001000   \n",
       "Raw-LR        0.900000    0.001     0.001000  0.001000  0.900000  0.001000   \n",
       "SHAP-LR       0.001000    0.001     0.001000  0.094041  0.001000  0.001000   \n",
       "Spearman-LR   0.001000    0.001     0.001000  0.900000  0.001000  0.001000   \n",
       "LIME-LR       0.900000    0.001     0.001000  0.001000  0.900000  0.001000   \n",
       "\n",
       "              Spearman-SVM  LIME-SVM    Raw-LR   SHAP-LR  Spearman-LR  \\\n",
       "Raw-RF            0.001000  0.700382  0.900000  0.001000     0.001000   \n",
       "SHAP-RF           0.001000  0.001000  0.001000  0.001000     0.001000   \n",
       "Spearman-RF       0.001000  0.001000  0.001000  0.001000     0.001000   \n",
       "LIME-RF           0.712467  0.004730  0.001000  0.094041     0.900000   \n",
       "Raw-SVM           0.001000  0.700382  0.900000  0.001000     0.001000   \n",
       "SHAP-SVM          0.001000  0.001000  0.001000  0.001000     0.001000   \n",
       "Spearman-SVM      1.000000  0.001000  0.001000  0.900000     0.296933   \n",
       "LIME-SVM          0.001000  1.000000  0.700382  0.001000     0.046070   \n",
       "Raw-LR            0.001000  0.700382  1.000000  0.001000     0.001000   \n",
       "SHAP-LR           0.900000  0.001000  0.001000  1.000000     0.011958   \n",
       "Spearman-LR       0.296933  0.046070  0.001000  0.011958     1.000000   \n",
       "LIME-LR           0.001000  0.099311  0.900000  0.001000     0.001000   \n",
       "\n",
       "               LIME-LR  \n",
       "Raw-RF        0.900000  \n",
       "SHAP-RF       0.001000  \n",
       "Spearman-RF   0.001000  \n",
       "LIME-RF       0.001000  \n",
       "Raw-SVM       0.900000  \n",
       "SHAP-SVM      0.001000  \n",
       "Spearman-SVM  0.001000  \n",
       "LIME-SVM      0.099311  \n",
       "Raw-LR        0.900000  \n",
       "SHAP-LR       0.001000  \n",
       "Spearman-LR   0.001000  \n",
       "LIME-LR       1.000000  "
      ],
      "text/html": [
       "<div>\n",
       "<style scoped>\n",
       "    .dataframe tbody tr th:only-of-type {\n",
       "        vertical-align: middle;\n",
       "    }\n",
       "\n",
       "    .dataframe tbody tr th {\n",
       "        vertical-align: top;\n",
       "    }\n",
       "\n",
       "    .dataframe thead th {\n",
       "        text-align: right;\n",
       "    }\n",
       "</style>\n",
       "<table border=\"1\" class=\"dataframe\">\n",
       "  <thead>\n",
       "    <tr style=\"text-align: right;\">\n",
       "      <th></th>\n",
       "      <th>Raw-RF</th>\n",
       "      <th>SHAP-RF</th>\n",
       "      <th>Spearman-RF</th>\n",
       "      <th>LIME-RF</th>\n",
       "      <th>Raw-SVM</th>\n",
       "      <th>SHAP-SVM</th>\n",
       "      <th>Spearman-SVM</th>\n",
       "      <th>LIME-SVM</th>\n",
       "      <th>Raw-LR</th>\n",
       "      <th>SHAP-LR</th>\n",
       "      <th>Spearman-LR</th>\n",
       "      <th>LIME-LR</th>\n",
       "    </tr>\n",
       "  </thead>\n",
       "  <tbody>\n",
       "    <tr>\n",
       "      <th>Raw-RF</th>\n",
       "      <td>1.000000</td>\n",
       "      <td>0.001</td>\n",
       "      <td>0.001000</td>\n",
       "      <td>0.001000</td>\n",
       "      <td>0.900000</td>\n",
       "      <td>0.001000</td>\n",
       "      <td>0.001000</td>\n",
       "      <td>0.700382</td>\n",
       "      <td>0.900000</td>\n",
       "      <td>0.001000</td>\n",
       "      <td>0.001000</td>\n",
       "      <td>0.900000</td>\n",
       "    </tr>\n",
       "    <tr>\n",
       "      <th>SHAP-RF</th>\n",
       "      <td>0.001000</td>\n",
       "      <td>1.000</td>\n",
       "      <td>0.900000</td>\n",
       "      <td>0.001000</td>\n",
       "      <td>0.001000</td>\n",
       "      <td>0.001000</td>\n",
       "      <td>0.001000</td>\n",
       "      <td>0.001000</td>\n",
       "      <td>0.001000</td>\n",
       "      <td>0.001000</td>\n",
       "      <td>0.001000</td>\n",
       "      <td>0.001000</td>\n",
       "    </tr>\n",
       "    <tr>\n",
       "      <th>Spearman-RF</th>\n",
       "      <td>0.001000</td>\n",
       "      <td>0.900</td>\n",
       "      <td>1.000000</td>\n",
       "      <td>0.001000</td>\n",
       "      <td>0.001000</td>\n",
       "      <td>0.002103</td>\n",
       "      <td>0.001000</td>\n",
       "      <td>0.001000</td>\n",
       "      <td>0.001000</td>\n",
       "      <td>0.001000</td>\n",
       "      <td>0.001000</td>\n",
       "      <td>0.001000</td>\n",
       "    </tr>\n",
       "    <tr>\n",
       "      <th>LIME-RF</th>\n",
       "      <td>0.001000</td>\n",
       "      <td>0.001</td>\n",
       "      <td>0.001000</td>\n",
       "      <td>1.000000</td>\n",
       "      <td>0.001000</td>\n",
       "      <td>0.001000</td>\n",
       "      <td>0.712467</td>\n",
       "      <td>0.004730</td>\n",
       "      <td>0.001000</td>\n",
       "      <td>0.094041</td>\n",
       "      <td>0.900000</td>\n",
       "      <td>0.001000</td>\n",
       "    </tr>\n",
       "    <tr>\n",
       "      <th>Raw-SVM</th>\n",
       "      <td>0.900000</td>\n",
       "      <td>0.001</td>\n",
       "      <td>0.001000</td>\n",
       "      <td>0.001000</td>\n",
       "      <td>1.000000</td>\n",
       "      <td>0.001000</td>\n",
       "      <td>0.001000</td>\n",
       "      <td>0.700382</td>\n",
       "      <td>0.900000</td>\n",
       "      <td>0.001000</td>\n",
       "      <td>0.001000</td>\n",
       "      <td>0.900000</td>\n",
       "    </tr>\n",
       "    <tr>\n",
       "      <th>SHAP-SVM</th>\n",
       "      <td>0.001000</td>\n",
       "      <td>0.001</td>\n",
       "      <td>0.002103</td>\n",
       "      <td>0.001000</td>\n",
       "      <td>0.001000</td>\n",
       "      <td>1.000000</td>\n",
       "      <td>0.001000</td>\n",
       "      <td>0.001000</td>\n",
       "      <td>0.001000</td>\n",
       "      <td>0.001000</td>\n",
       "      <td>0.001000</td>\n",
       "      <td>0.001000</td>\n",
       "    </tr>\n",
       "    <tr>\n",
       "      <th>Spearman-SVM</th>\n",
       "      <td>0.001000</td>\n",
       "      <td>0.001</td>\n",
       "      <td>0.001000</td>\n",
       "      <td>0.712467</td>\n",
       "      <td>0.001000</td>\n",
       "      <td>0.001000</td>\n",
       "      <td>1.000000</td>\n",
       "      <td>0.001000</td>\n",
       "      <td>0.001000</td>\n",
       "      <td>0.900000</td>\n",
       "      <td>0.296933</td>\n",
       "      <td>0.001000</td>\n",
       "    </tr>\n",
       "    <tr>\n",
       "      <th>LIME-SVM</th>\n",
       "      <td>0.700382</td>\n",
       "      <td>0.001</td>\n",
       "      <td>0.001000</td>\n",
       "      <td>0.004730</td>\n",
       "      <td>0.700382</td>\n",
       "      <td>0.001000</td>\n",
       "      <td>0.001000</td>\n",
       "      <td>1.000000</td>\n",
       "      <td>0.700382</td>\n",
       "      <td>0.001000</td>\n",
       "      <td>0.046070</td>\n",
       "      <td>0.099311</td>\n",
       "    </tr>\n",
       "    <tr>\n",
       "      <th>Raw-LR</th>\n",
       "      <td>0.900000</td>\n",
       "      <td>0.001</td>\n",
       "      <td>0.001000</td>\n",
       "      <td>0.001000</td>\n",
       "      <td>0.900000</td>\n",
       "      <td>0.001000</td>\n",
       "      <td>0.001000</td>\n",
       "      <td>0.700382</td>\n",
       "      <td>1.000000</td>\n",
       "      <td>0.001000</td>\n",
       "      <td>0.001000</td>\n",
       "      <td>0.900000</td>\n",
       "    </tr>\n",
       "    <tr>\n",
       "      <th>SHAP-LR</th>\n",
       "      <td>0.001000</td>\n",
       "      <td>0.001</td>\n",
       "      <td>0.001000</td>\n",
       "      <td>0.094041</td>\n",
       "      <td>0.001000</td>\n",
       "      <td>0.001000</td>\n",
       "      <td>0.900000</td>\n",
       "      <td>0.001000</td>\n",
       "      <td>0.001000</td>\n",
       "      <td>1.000000</td>\n",
       "      <td>0.011958</td>\n",
       "      <td>0.001000</td>\n",
       "    </tr>\n",
       "    <tr>\n",
       "      <th>Spearman-LR</th>\n",
       "      <td>0.001000</td>\n",
       "      <td>0.001</td>\n",
       "      <td>0.001000</td>\n",
       "      <td>0.900000</td>\n",
       "      <td>0.001000</td>\n",
       "      <td>0.001000</td>\n",
       "      <td>0.296933</td>\n",
       "      <td>0.046070</td>\n",
       "      <td>0.001000</td>\n",
       "      <td>0.011958</td>\n",
       "      <td>1.000000</td>\n",
       "      <td>0.001000</td>\n",
       "    </tr>\n",
       "    <tr>\n",
       "      <th>LIME-LR</th>\n",
       "      <td>0.900000</td>\n",
       "      <td>0.001</td>\n",
       "      <td>0.001000</td>\n",
       "      <td>0.001000</td>\n",
       "      <td>0.900000</td>\n",
       "      <td>0.001000</td>\n",
       "      <td>0.001000</td>\n",
       "      <td>0.099311</td>\n",
       "      <td>0.900000</td>\n",
       "      <td>0.001000</td>\n",
       "      <td>0.001000</td>\n",
       "      <td>1.000000</td>\n",
       "    </tr>\n",
       "  </tbody>\n",
       "</table>\n",
       "</div>"
      ]
     },
     "execution_count": 32,
     "metadata": {},
     "output_type": "execute_result"
    }
   ],
   "execution_count": 32
  },
  {
   "metadata": {},
   "cell_type": "markdown",
   "source": "# Moyennes >0,8 / <0,8",
   "id": "15679d4c0d6d6316"
  },
  {
   "cell_type": "code",
   "source": [
    "import pickle\n",
    "dico_models = pickle.load(file=open(\"models/Models.pckl\", \"rb\"))\n"
   ],
   "metadata": {
    "collapsed": false,
    "ExecuteTime": {
     "end_time": "2024-07-17T05:36:22.934193Z",
     "start_time": "2024-07-17T05:36:22.702430Z"
    }
   },
   "id": "1e98cf20c026bcc6",
   "outputs": [],
   "execution_count": 33
  },
  {
   "metadata": {
    "ExecuteTime": {
     "end_time": "2024-07-17T05:36:22.945300Z",
     "start_time": "2024-07-17T05:36:22.937466Z"
    }
   },
   "cell_type": "code",
   "source": [
    "columns = [\"did\", \"Model\", \"nb_true\", \"nb_false\", \"accuracy\"]\n",
    "data = []\n",
    "\n",
    "for did, o in dico_models.items():\n",
    "    lines = []\n",
    "    for model, e in o.items():\n",
    "        line = [did, model, e[\"nb_true\"], e[\"nb_false\"], e[\"balanced-acc\"]]\n",
    "        lines.append(line)\n",
    "    max = 0\n",
    "    max_line = []\n",
    "    for line in lines:\n",
    "        if line[4] > max:\n",
    "            max = line[4]\n",
    "            max_line = line\n",
    "    data.append(max_line)\n"
   ],
   "id": "7698ad34a2337fda",
   "outputs": [],
   "execution_count": 34
  },
  {
   "metadata": {
    "ExecuteTime": {
     "end_time": "2024-07-17T05:36:22.961090Z",
     "start_time": "2024-07-17T05:36:22.948607Z"
    }
   },
   "cell_type": "code",
   "source": [
    "import pandas as pd\n",
    "df = pd.DataFrame(data, columns = columns)\n",
    "good = df[df[\"accuracy\"] > 0.8]\n",
    "bad = df[df[\"accuracy\"] <= 0.8]\n",
    "(df.accuracy.min())"
   ],
   "id": "f4d7d4e771243593",
   "outputs": [
    {
     "data": {
      "text/plain": [
       "0.499799176624159"
      ]
     },
     "execution_count": 35,
     "metadata": {},
     "output_type": "execute_result"
    }
   ],
   "execution_count": 35
  },
  {
   "metadata": {
    "ExecuteTime": {
     "end_time": "2024-07-17T05:36:23.210455Z",
     "start_time": "2024-07-17T05:36:22.962922Z"
    }
   },
   "cell_type": "code",
   "source": [
    "from matplotlib import pyplot as plt\n",
    "plt.hist(df.accuracy)"
   ],
   "id": "2c05bbb97c6a6541",
   "outputs": [
    {
     "data": {
      "text/plain": [
       "(array([ 3.,  2.,  2.,  3.,  1.,  3.,  1.,  7.,  3., 15.]),\n",
       " array([0.49979918, 0.54981926, 0.59983934, 0.64985942, 0.69987951,\n",
       "        0.74989959, 0.79991967, 0.84993975, 0.89995984, 0.94997992,\n",
       "        1.        ]),\n",
       " <BarContainer object of 10 artists>)"
      ]
     },
     "execution_count": 36,
     "metadata": {},
     "output_type": "execute_result"
    },
    {
     "data": {
      "text/plain": [
       "<Figure size 640x480 with 1 Axes>"
      ],
      "image/png": "[encoded data removed]"
     },
     "metadata": {},
     "output_type": "display_data"
    }
   ],
   "execution_count": 36
  },
  {
   "metadata": {
    "ExecuteTime": {
     "end_time": "2024-07-17T05:36:23.217444Z",
     "start_time": "2024-07-17T05:36:23.212164Z"
    }
   },
   "cell_type": "code",
   "source": "bad.accuracy.max()",
   "id": "2e8c4b9b2d62bc8b",
   "outputs": [
    {
     "data": {
      "text/plain": [
       "0.7861591987271142"
      ]
     },
     "execution_count": 37,
     "metadata": {},
     "output_type": "execute_result"
    }
   ],
   "execution_count": 37
  },
  {
   "metadata": {
    "ExecuteTime": {
     "end_time": "2024-07-17T05:36:23.230120Z",
     "start_time": "2024-07-17T05:36:23.219098Z"
    }
   },
   "cell_type": "code",
   "source": "df.nb_false.sum() / (df.nb_true.sum() + df.nb_false.sum())",
   "id": "e5ca2575c085c8e8",
   "outputs": [
    {
     "data": {
      "text/plain": [
       "0.14351157527336186"
      ]
     },
     "execution_count": 38,
     "metadata": {},
     "output_type": "execute_result"
    }
   ],
   "execution_count": 38
  },
  {
   "metadata": {
    "ExecuteTime": {
     "end_time": "2024-07-17T05:36:23.236398Z",
     "start_time": "2024-07-17T05:36:23.231387Z"
    }
   },
   "cell_type": "code",
   "source": "bad.nb_true.sum() / (bad.nb_true.sum() + bad.nb_false.sum())",
   "id": "2c4266ae99f9f73d",
   "outputs": [
    {
     "data": {
      "text/plain": [
       "0.7196652719665272"
      ]
     },
     "execution_count": 39,
     "metadata": {},
     "output_type": "execute_result"
    }
   ],
   "execution_count": 39
  }
 ],
 "metadata": {
  "kernelspec": {
   "display_name": "Python 3",
   "language": "python",
   "name": "python3"
  },
  "language_info": {
   "codemirror_mode": {
    "name": "ipython",
    "version": 2
   },
   "file_extension": ".py",
   "mimetype": "text/x-python",
   "name": "python",
   "nbconvert_exporter": "python",
   "pygments_lexer": "ipython2",
   "version": "2.7.6"
  }
 },
 "nbformat": 4,
 "nbformat_minor": 5
}
