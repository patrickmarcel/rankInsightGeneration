{
 "cells": [
  {
   "metadata": {},
   "cell_type": "markdown",
   "source": "# Analyse",
   "id": "dabf61a71daa719"
  },
  {
   "metadata": {
    "ExecuteTime": {
     "end_time": "2024-12-13T18:50:42.148825Z",
     "start_time": "2024-12-13T18:50:42.145102Z"
    }
   },
   "cell_type": "code",
   "source": [
    "import pandas as pd\n",
    "import seaborn as sns\n",
    "#from matplotlib import pyplot as plt"
   ],
   "id": "initial_id",
   "outputs": [],
   "execution_count": 1
  },
  {
   "cell_type": "code",
   "source": [
    "data = pd.read_csv(\"results/error_13-12-24:20:49:43_F100K.csv\", index_col=0)\n",
    "#data = data.loc[data['Pair'] == '(\\'UA\\', \\'HA\\')' ]\n",
    "data = pd.read_csv(\"results/f1-r@k_13-12-24:20:49:43_F100K.csv\", index_col=0)\n",
    "data = pd.read_csv(\"results/times-14-12-24:10:43:10_F100K.csv\", index_col=0)\n",
    "#data = pd.read_csv(\"results/Welch-Permutations.csv\", sep=';', index_col=0)\n",
    "#data['Initial Sample'] = data['Initial Sample'].astype(str)\n",
    "data['index'] = data['count'].astype(str)\n",
    "#data['Ratio cuboid'] = data['Ratio cuboid'].astype(str)\n",
    "data['Test'] = data['Test'].astype(str)\n",
    "#data['percent of lattice'] = data['percent of lattice'].astype(str)\n"
   ],
   "metadata": {
    "collapsed": false,
    "ExecuteTime": {
     "end_time": "2024-12-14T09:45:16.615412Z",
     "start_time": "2024-12-14T09:45:16.602675Z"
    }
   },
   "id": "d12fd21f572ecad1",
   "outputs": [],
   "execution_count": 90
  },
  {
   "cell_type": "code",
   "source": "data.head()",
   "metadata": {
    "collapsed": false,
    "ExecuteTime": {
     "end_time": "2024-12-14T09:30:24.664662Z",
     "start_time": "2024-12-14T09:30:24.657654Z"
    }
   },
   "id": "3ad0919f686ee818",
   "outputs": [
    {
     "data": {
      "text/plain": [
       "   Runs Index  count      Time  Ratio cuboid  percent of lattice  \\\n",
       "0     0    cl      1  0.002338           0.4                 0.4   \n",
       "1     0    cl      2  0.003063           0.4                 0.4   \n",
       "2     0    cl      3  0.003272           0.4                 0.4   \n",
       "3     0    cl      4  0.003579           0.4                 0.4   \n",
       "4     0    cl      5  0.003786           0.4                 0.4   \n",
       "\n",
       "               Test index  \n",
       "0  All Permutations     1  \n",
       "1  All Permutations     2  \n",
       "2  All Permutations     3  \n",
       "3  All Permutations     4  \n",
       "4  All Permutations     5  "
      ],
      "text/html": [
       "<div>\n",
       "<style scoped>\n",
       "    .dataframe tbody tr th:only-of-type {\n",
       "        vertical-align: middle;\n",
       "    }\n",
       "\n",
       "    .dataframe tbody tr th {\n",
       "        vertical-align: top;\n",
       "    }\n",
       "\n",
       "    .dataframe thead th {\n",
       "        text-align: right;\n",
       "    }\n",
       "</style>\n",
       "<table border=\"1\" class=\"dataframe\">\n",
       "  <thead>\n",
       "    <tr style=\"text-align: right;\">\n",
       "      <th></th>\n",
       "      <th>Runs</th>\n",
       "      <th>Index</th>\n",
       "      <th>count</th>\n",
       "      <th>Time</th>\n",
       "      <th>Ratio cuboid</th>\n",
       "      <th>percent of lattice</th>\n",
       "      <th>Test</th>\n",
       "      <th>index</th>\n",
       "    </tr>\n",
       "  </thead>\n",
       "  <tbody>\n",
       "    <tr>\n",
       "      <th>0</th>\n",
       "      <td>0</td>\n",
       "      <td>cl</td>\n",
       "      <td>1</td>\n",
       "      <td>0.002338</td>\n",
       "      <td>0.4</td>\n",
       "      <td>0.4</td>\n",
       "      <td>All Permutations</td>\n",
       "      <td>1</td>\n",
       "    </tr>\n",
       "    <tr>\n",
       "      <th>1</th>\n",
       "      <td>0</td>\n",
       "      <td>cl</td>\n",
       "      <td>2</td>\n",
       "      <td>0.003063</td>\n",
       "      <td>0.4</td>\n",
       "      <td>0.4</td>\n",
       "      <td>All Permutations</td>\n",
       "      <td>2</td>\n",
       "    </tr>\n",
       "    <tr>\n",
       "      <th>2</th>\n",
       "      <td>0</td>\n",
       "      <td>cl</td>\n",
       "      <td>3</td>\n",
       "      <td>0.003272</td>\n",
       "      <td>0.4</td>\n",
       "      <td>0.4</td>\n",
       "      <td>All Permutations</td>\n",
       "      <td>3</td>\n",
       "    </tr>\n",
       "    <tr>\n",
       "      <th>3</th>\n",
       "      <td>0</td>\n",
       "      <td>cl</td>\n",
       "      <td>4</td>\n",
       "      <td>0.003579</td>\n",
       "      <td>0.4</td>\n",
       "      <td>0.4</td>\n",
       "      <td>All Permutations</td>\n",
       "      <td>4</td>\n",
       "    </tr>\n",
       "    <tr>\n",
       "      <th>4</th>\n",
       "      <td>0</td>\n",
       "      <td>cl</td>\n",
       "      <td>5</td>\n",
       "      <td>0.003786</td>\n",
       "      <td>0.4</td>\n",
       "      <td>0.4</td>\n",
       "      <td>All Permutations</td>\n",
       "      <td>5</td>\n",
       "    </tr>\n",
       "  </tbody>\n",
       "</table>\n",
       "</div>"
      ]
     },
     "execution_count": 88,
     "metadata": {},
     "output_type": "execute_result"
    }
   ],
   "execution_count": 88
  },
  {
   "metadata": {
    "ExecuteTime": {
     "end_time": "2024-12-02T16:09:56.843683Z",
     "start_time": "2024-12-02T16:09:56.831550Z"
    }
   },
   "cell_type": "code",
   "source": [
    "pivot = pd.pivot_table(data, values=\"F1 on Queries\", index='Initial Sample', columns=['Query Sample'], aggfunc=\"mean\")\n",
    "#pivot = pd.pivot_table(data, values=\"F1 on Queries\", index='Initial Sample', columns=['Query Sample'], aggfunc=\"mean\")\n",
    "pivot"
   ],
   "id": "8a5b6f6cb3461961",
   "outputs": [
    {
     "data": {
      "text/plain": [
       "Query Sample         0.1       0.2       0.3       0.4       0.5       0.6  \\\n",
       "Initial Sample                                                               \n",
       "0.1             0.997765  0.996648  0.997753  1.000000  0.995518  0.997765   \n",
       "0.2             0.996648  0.997753  0.997765  0.996648  0.997765  0.997765   \n",
       "0.3             1.000000  0.998883  1.000000  0.998883  0.998883  1.000000   \n",
       "0.4             1.000000  0.998883  1.000000  1.000000  1.000000  1.000000   \n",
       "0.5             1.000000  1.000000  1.000000  1.000000  1.000000  1.000000   \n",
       "0.6             1.000000  1.000000  1.000000  1.000000  1.000000  1.000000   \n",
       "0.7             1.000000  1.000000  1.000000  1.000000  1.000000  1.000000   \n",
       "0.8             1.000000  1.000000  1.000000  1.000000  1.000000  1.000000   \n",
       "0.9             1.000000  1.000000  1.000000  1.000000  1.000000  1.000000   \n",
       "1.0             1.000000  1.000000  1.000000  1.000000  1.000000  1.000000   \n",
       "\n",
       "Query Sample         0.7       0.8       0.9       1.0  \n",
       "Initial Sample                                          \n",
       "0.1             0.997753  0.997765  0.997765  1.000000  \n",
       "0.2             0.998883  1.000000  0.998883  0.998883  \n",
       "0.3             1.000000  0.998883  0.998883  1.000000  \n",
       "0.4             0.998883  1.000000  1.000000  1.000000  \n",
       "0.5             1.000000  1.000000  1.000000  1.000000  \n",
       "0.6             1.000000  1.000000  1.000000  1.000000  \n",
       "0.7             1.000000  1.000000  1.000000  1.000000  \n",
       "0.8             1.000000  1.000000  1.000000  1.000000  \n",
       "0.9             1.000000  1.000000  1.000000  1.000000  \n",
       "1.0             1.000000  1.000000  1.000000  1.000000  "
      ],
      "text/html": [
       "<div>\n",
       "<style scoped>\n",
       "    .dataframe tbody tr th:only-of-type {\n",
       "        vertical-align: middle;\n",
       "    }\n",
       "\n",
       "    .dataframe tbody tr th {\n",
       "        vertical-align: top;\n",
       "    }\n",
       "\n",
       "    .dataframe thead th {\n",
       "        text-align: right;\n",
       "    }\n",
       "</style>\n",
       "<table border=\"1\" class=\"dataframe\">\n",
       "  <thead>\n",
       "    <tr style=\"text-align: right;\">\n",
       "      <th>Query Sample</th>\n",
       "      <th>0.1</th>\n",
       "      <th>0.2</th>\n",
       "      <th>0.3</th>\n",
       "      <th>0.4</th>\n",
       "      <th>0.5</th>\n",
       "      <th>0.6</th>\n",
       "      <th>0.7</th>\n",
       "      <th>0.8</th>\n",
       "      <th>0.9</th>\n",
       "      <th>1.0</th>\n",
       "    </tr>\n",
       "    <tr>\n",
       "      <th>Initial Sample</th>\n",
       "      <th></th>\n",
       "      <th></th>\n",
       "      <th></th>\n",
       "      <th></th>\n",
       "      <th></th>\n",
       "      <th></th>\n",
       "      <th></th>\n",
       "      <th></th>\n",
       "      <th></th>\n",
       "      <th></th>\n",
       "    </tr>\n",
       "  </thead>\n",
       "  <tbody>\n",
       "    <tr>\n",
       "      <th>0.1</th>\n",
       "      <td>0.997765</td>\n",
       "      <td>0.996648</td>\n",
       "      <td>0.997753</td>\n",
       "      <td>1.000000</td>\n",
       "      <td>0.995518</td>\n",
       "      <td>0.997765</td>\n",
       "      <td>0.997753</td>\n",
       "      <td>0.997765</td>\n",
       "      <td>0.997765</td>\n",
       "      <td>1.000000</td>\n",
       "    </tr>\n",
       "    <tr>\n",
       "      <th>0.2</th>\n",
       "      <td>0.996648</td>\n",
       "      <td>0.997753</td>\n",
       "      <td>0.997765</td>\n",
       "      <td>0.996648</td>\n",
       "      <td>0.997765</td>\n",
       "      <td>0.997765</td>\n",
       "      <td>0.998883</td>\n",
       "      <td>1.000000</td>\n",
       "      <td>0.998883</td>\n",
       "      <td>0.998883</td>\n",
       "    </tr>\n",
       "    <tr>\n",
       "      <th>0.3</th>\n",
       "      <td>1.000000</td>\n",
       "      <td>0.998883</td>\n",
       "      <td>1.000000</td>\n",
       "      <td>0.998883</td>\n",
       "      <td>0.998883</td>\n",
       "      <td>1.000000</td>\n",
       "      <td>1.000000</td>\n",
       "      <td>0.998883</td>\n",
       "      <td>0.998883</td>\n",
       "      <td>1.000000</td>\n",
       "    </tr>\n",
       "    <tr>\n",
       "      <th>0.4</th>\n",
       "      <td>1.000000</td>\n",
       "      <td>0.998883</td>\n",
       "      <td>1.000000</td>\n",
       "      <td>1.000000</td>\n",
       "      <td>1.000000</td>\n",
       "      <td>1.000000</td>\n",
       "      <td>0.998883</td>\n",
       "      <td>1.000000</td>\n",
       "      <td>1.000000</td>\n",
       "      <td>1.000000</td>\n",
       "    </tr>\n",
       "    <tr>\n",
       "      <th>0.5</th>\n",
       "      <td>1.000000</td>\n",
       "      <td>1.000000</td>\n",
       "      <td>1.000000</td>\n",
       "      <td>1.000000</td>\n",
       "      <td>1.000000</td>\n",
       "      <td>1.000000</td>\n",
       "      <td>1.000000</td>\n",
       "      <td>1.000000</td>\n",
       "      <td>1.000000</td>\n",
       "      <td>1.000000</td>\n",
       "    </tr>\n",
       "    <tr>\n",
       "      <th>0.6</th>\n",
       "      <td>1.000000</td>\n",
       "      <td>1.000000</td>\n",
       "      <td>1.000000</td>\n",
       "      <td>1.000000</td>\n",
       "      <td>1.000000</td>\n",
       "      <td>1.000000</td>\n",
       "      <td>1.000000</td>\n",
       "      <td>1.000000</td>\n",
       "      <td>1.000000</td>\n",
       "      <td>1.000000</td>\n",
       "    </tr>\n",
       "    <tr>\n",
       "      <th>0.7</th>\n",
       "      <td>1.000000</td>\n",
       "      <td>1.000000</td>\n",
       "      <td>1.000000</td>\n",
       "      <td>1.000000</td>\n",
       "      <td>1.000000</td>\n",
       "      <td>1.000000</td>\n",
       "      <td>1.000000</td>\n",
       "      <td>1.000000</td>\n",
       "      <td>1.000000</td>\n",
       "      <td>1.000000</td>\n",
       "    </tr>\n",
       "    <tr>\n",
       "      <th>0.8</th>\n",
       "      <td>1.000000</td>\n",
       "      <td>1.000000</td>\n",
       "      <td>1.000000</td>\n",
       "      <td>1.000000</td>\n",
       "      <td>1.000000</td>\n",
       "      <td>1.000000</td>\n",
       "      <td>1.000000</td>\n",
       "      <td>1.000000</td>\n",
       "      <td>1.000000</td>\n",
       "      <td>1.000000</td>\n",
       "    </tr>\n",
       "    <tr>\n",
       "      <th>0.9</th>\n",
       "      <td>1.000000</td>\n",
       "      <td>1.000000</td>\n",
       "      <td>1.000000</td>\n",
       "      <td>1.000000</td>\n",
       "      <td>1.000000</td>\n",
       "      <td>1.000000</td>\n",
       "      <td>1.000000</td>\n",
       "      <td>1.000000</td>\n",
       "      <td>1.000000</td>\n",
       "      <td>1.000000</td>\n",
       "    </tr>\n",
       "    <tr>\n",
       "      <th>1.0</th>\n",
       "      <td>1.000000</td>\n",
       "      <td>1.000000</td>\n",
       "      <td>1.000000</td>\n",
       "      <td>1.000000</td>\n",
       "      <td>1.000000</td>\n",
       "      <td>1.000000</td>\n",
       "      <td>1.000000</td>\n",
       "      <td>1.000000</td>\n",
       "      <td>1.000000</td>\n",
       "      <td>1.000000</td>\n",
       "    </tr>\n",
       "  </tbody>\n",
       "</table>\n",
       "</div>"
      ]
     },
     "execution_count": 90,
     "metadata": {},
     "output_type": "execute_result"
    }
   ],
   "execution_count": 90
  },
  {
   "metadata": {
    "ExecuteTime": {
     "end_time": "2024-12-02T16:09:59.510102Z",
     "start_time": "2024-12-02T16:09:59.370699Z"
    }
   },
   "cell_type": "code",
   "source": "sns.heatmap(pivot, vmin=0, vmax=0.2)",
   "id": "1a99d7b081577f5d",
   "outputs": [
    {
     "data": {
      "text/plain": [
       "<Axes: xlabel='Query Sample', ylabel='Initial Sample'>"
      ]
     },
     "execution_count": 91,
     "metadata": {},
     "output_type": "execute_result"
    },
    {
     "data": {
      "text/plain": [
       "<Figure size 640x480 with 2 Axes>"
      ],
      "image/png": "[encoded data removed]"
     },
     "metadata": {},
     "output_type": "display_data"
    }
   ],
   "execution_count": 91
  },
  {
   "metadata": {
    "ExecuteTime": {
     "end_time": "2024-12-14T09:45:21.296040Z",
     "start_time": "2024-12-14T09:45:21.175370Z"
    }
   },
   "cell_type": "code",
   "source": [
    "from matplotlib import pyplot as plt\n",
    "\n",
    "a4_dims = (12, 8)\n",
    "fig, ax = plt.subplots(figsize=a4_dims)\n",
    "#ax.set_yscale('log')\n",
    "x=\"count\"\n",
    "y=\"Time\"\n",
    "#hue=\"Index\"\n",
    "#hue=\"Ratio cuboid\"\n",
    "#hue='percent of lattice'\n",
    "hue='Test'\n",
    "#x= \"Query Sample\"\n",
    "#y = \"Error on lattice\"\n",
    "#y = \"Error on materialized\"\n",
    "#y=\"Prediction\"\n",
    "#y = \"F1 on Queries\"\n",
    "#y = \"F1 on Lattice\"\n",
    "#y= \"Number of Welch\"\n",
    "#y= \"Number of Comparisons\"\n",
    "#y= \"Recall@k on Queries\"\n",
    "#y= \"Recall@k on Lattice\"\n",
    "#hue=\"Initial Sample\"\n",
    "plot=sns.lineplot(ax=ax,data=data,x=x,y=y,hue=hue,)\n",
    "#plot=sns.boxplot(ax=ax,data=data, x=x, y=y, hue=hue,)"
   ],
   "id": "a03e224062ffd584",
   "outputs": [
    {
     "data": {
      "text/plain": [
       "<Figure size 1200x800 with 1 Axes>"
      ],
      "image/png": "[encoded data removed]"
     },
     "metadata": {},
     "output_type": "display_data"
    }
   ],
   "execution_count": 91
  },
  {
   "metadata": {
    "ExecuteTime": {
     "end_time": "2024-12-14T09:46:45.829282Z",
     "start_time": "2024-12-14T09:46:45.741179Z"
    }
   },
   "cell_type": "code",
   "source": [
    "save=plot.get_figure()\n",
    "name=\"figures/withoutTies/100k\"+y+\"_\"+x+\"_\"+hue+\".png\"\n",
    "#name=\"figures/test_\"+y+\"_\"+x+\"_\"+hue+\".png\"\n",
    "save.savefig(name)"
   ],
   "id": "265a26f0e0262361",
   "outputs": [],
   "execution_count": 92
  }
 ],
 "metadata": {
  "kernelspec": {
   "display_name": "Python 3",
   "language": "python",
   "name": "python3"
  },
  "language_info": {
   "codemirror_mode": {
    "name": "ipython",
    "version": 2
   },
   "file_extension": ".py",
   "mimetype": "text/x-python",
   "name": "python",
   "nbconvert_exporter": "python",
   "pygments_lexer": "ipython2",
   "version": "2.7.6"
  }
 },
 "nbformat": 4,
 "nbformat_minor": 5
}
