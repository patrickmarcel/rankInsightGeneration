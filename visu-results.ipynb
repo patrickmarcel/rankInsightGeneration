{
 "cells": [
  {
   "metadata": {},
   "cell_type": "markdown",
   "source": "# Analyse",
   "id": "dabf61a71daa719"
  },
  {
   "metadata": {
    "ExecuteTime": {
     "end_time": "2024-11-29T14:54:18.996223Z",
     "start_time": "2024-11-29T14:54:18.994301Z"
    }
   },
   "cell_type": "code",
   "source": [
    "import pandas as pd\n",
    "import seaborn as sns\n",
    "from matplotlib import pyplot as plt"
   ],
   "id": "initial_id",
   "outputs": [],
   "execution_count": 1
  },
  {
   "cell_type": "code",
   "source": [
    "data = pd.read_csv(\"results/res_29-11-24_15_49_37.csv\", index_col=0)\n",
    "data['Initial Sample'] = data['Initial Sample'].astype(str)"
   ],
   "metadata": {
    "collapsed": false,
    "ExecuteTime": {
     "end_time": "2024-11-29T14:54:44.177125Z",
     "start_time": "2024-11-29T14:54:44.171379Z"
    }
   },
   "id": "d12fd21f572ecad1",
   "outputs": [],
   "execution_count": 2
  },
  {
   "cell_type": "code",
   "source": "data.head()",
   "metadata": {
    "collapsed": false,
    "ExecuteTime": {
     "end_time": "2024-11-29T14:54:45.390883Z",
     "start_time": "2024-11-29T14:54:45.383633Z"
    }
   },
   "id": "3ad0919f686ee818",
   "outputs": [
    {
     "data": {
      "text/plain": [
       "   Runs Initial Sample  Query Sample          Pair  Error on materialized  \\\n",
       "0     0            0.1           0.1  ('AA', 'B6')               0.444444   \n",
       "1     0            0.1           0.1  ('AA', 'MQ')               0.400000   \n",
       "2     0            0.1           1.0  ('VX', 'AA')               0.000000   \n",
       "3     0            0.1           1.0  ('VX', 'F9')               0.000000   \n",
       "4     0            0.1           1.0  ('VX', 'WN')               0.000000   \n",
       "\n",
       "   Error on lattice  Prediction  \n",
       "0          0.181818    1.000000  \n",
       "1          0.285714    1.000000  \n",
       "2          0.071429    0.428571  \n",
       "3          0.433333    0.400000  \n",
       "4          0.175000    0.625000  "
      ],
      "text/html": [
       "<div>\n",
       "<style scoped>\n",
       "    .dataframe tbody tr th:only-of-type {\n",
       "        vertical-align: middle;\n",
       "    }\n",
       "\n",
       "    .dataframe tbody tr th {\n",
       "        vertical-align: top;\n",
       "    }\n",
       "\n",
       "    .dataframe thead th {\n",
       "        text-align: right;\n",
       "    }\n",
       "</style>\n",
       "<table border=\"1\" class=\"dataframe\">\n",
       "  <thead>\n",
       "    <tr style=\"text-align: right;\">\n",
       "      <th></th>\n",
       "      <th>Runs</th>\n",
       "      <th>Initial Sample</th>\n",
       "      <th>Query Sample</th>\n",
       "      <th>Pair</th>\n",
       "      <th>Error on materialized</th>\n",
       "      <th>Error on lattice</th>\n",
       "      <th>Prediction</th>\n",
       "    </tr>\n",
       "  </thead>\n",
       "  <tbody>\n",
       "    <tr>\n",
       "      <th>0</th>\n",
       "      <td>0</td>\n",
       "      <td>0.1</td>\n",
       "      <td>0.1</td>\n",
       "      <td>('AA', 'B6')</td>\n",
       "      <td>0.444444</td>\n",
       "      <td>0.181818</td>\n",
       "      <td>1.000000</td>\n",
       "    </tr>\n",
       "    <tr>\n",
       "      <th>1</th>\n",
       "      <td>0</td>\n",
       "      <td>0.1</td>\n",
       "      <td>0.1</td>\n",
       "      <td>('AA', 'MQ')</td>\n",
       "      <td>0.400000</td>\n",
       "      <td>0.285714</td>\n",
       "      <td>1.000000</td>\n",
       "    </tr>\n",
       "    <tr>\n",
       "      <th>2</th>\n",
       "      <td>0</td>\n",
       "      <td>0.1</td>\n",
       "      <td>1.0</td>\n",
       "      <td>('VX', 'AA')</td>\n",
       "      <td>0.000000</td>\n",
       "      <td>0.071429</td>\n",
       "      <td>0.428571</td>\n",
       "    </tr>\n",
       "    <tr>\n",
       "      <th>3</th>\n",
       "      <td>0</td>\n",
       "      <td>0.1</td>\n",
       "      <td>1.0</td>\n",
       "      <td>('VX', 'F9')</td>\n",
       "      <td>0.000000</td>\n",
       "      <td>0.433333</td>\n",
       "      <td>0.400000</td>\n",
       "    </tr>\n",
       "    <tr>\n",
       "      <th>4</th>\n",
       "      <td>0</td>\n",
       "      <td>0.1</td>\n",
       "      <td>1.0</td>\n",
       "      <td>('VX', 'WN')</td>\n",
       "      <td>0.000000</td>\n",
       "      <td>0.175000</td>\n",
       "      <td>0.625000</td>\n",
       "    </tr>\n",
       "  </tbody>\n",
       "</table>\n",
       "</div>"
      ]
     },
     "execution_count": 3,
     "metadata": {},
     "output_type": "execute_result"
    }
   ],
   "execution_count": 3
  },
  {
   "metadata": {
    "ExecuteTime": {
     "end_time": "2024-11-29T14:54:49.139220Z",
     "start_time": "2024-11-29T14:54:49.130446Z"
    }
   },
   "cell_type": "code",
   "source": [
    "pivot = pd.pivot_table(data, values=\"Error on lattice\", index='Initial Sample', columns=['Query Sample'], aggfunc=\"mean\")\n",
    "pivot"
   ],
   "id": "8a5b6f6cb3461961",
   "outputs": [
    {
     "data": {
      "text/plain": [
       "Query Sample         0.1       0.6       1.0\n",
       "Initial Sample                              \n",
       "0.1             0.233766       NaN  0.226587\n",
       "0.6             0.679711  0.118687  0.075758\n",
       "1.0             0.513391  0.346724  0.140970"
      ],
      "text/html": [
       "<div>\n",
       "<style scoped>\n",
       "    .dataframe tbody tr th:only-of-type {\n",
       "        vertical-align: middle;\n",
       "    }\n",
       "\n",
       "    .dataframe tbody tr th {\n",
       "        vertical-align: top;\n",
       "    }\n",
       "\n",
       "    .dataframe thead th {\n",
       "        text-align: right;\n",
       "    }\n",
       "</style>\n",
       "<table border=\"1\" class=\"dataframe\">\n",
       "  <thead>\n",
       "    <tr style=\"text-align: right;\">\n",
       "      <th>Query Sample</th>\n",
       "      <th>0.1</th>\n",
       "      <th>0.6</th>\n",
       "      <th>1.0</th>\n",
       "    </tr>\n",
       "    <tr>\n",
       "      <th>Initial Sample</th>\n",
       "      <th></th>\n",
       "      <th></th>\n",
       "      <th></th>\n",
       "    </tr>\n",
       "  </thead>\n",
       "  <tbody>\n",
       "    <tr>\n",
       "      <th>0.1</th>\n",
       "      <td>0.233766</td>\n",
       "      <td>NaN</td>\n",
       "      <td>0.226587</td>\n",
       "    </tr>\n",
       "    <tr>\n",
       "      <th>0.6</th>\n",
       "      <td>0.679711</td>\n",
       "      <td>0.118687</td>\n",
       "      <td>0.075758</td>\n",
       "    </tr>\n",
       "    <tr>\n",
       "      <th>1.0</th>\n",
       "      <td>0.513391</td>\n",
       "      <td>0.346724</td>\n",
       "      <td>0.140970</td>\n",
       "    </tr>\n",
       "  </tbody>\n",
       "</table>\n",
       "</div>"
      ]
     },
     "execution_count": 4,
     "metadata": {},
     "output_type": "execute_result"
    }
   ],
   "execution_count": 4
  },
  {
   "metadata": {
    "ExecuteTime": {
     "end_time": "2024-11-29T14:25:23.535354Z",
     "start_time": "2024-11-29T14:25:23.436291Z"
    }
   },
   "cell_type": "code",
   "source": "sns.heatmap(pivot, vmin=0, vmax=0.2)",
   "id": "1a99d7b081577f5d",
   "outputs": [
    {
     "data": {
      "text/plain": [
       "<Axes: xlabel='Query Sample', ylabel='Initial Sample'>"
      ]
     },
     "execution_count": 37,
     "metadata": {},
     "output_type": "execute_result"
    },
    {
     "data": {
      "text/plain": [
       "<Figure size 640x480 with 2 Axes>"
      ],
      "image/png": "[encoded data removed]"
     },
     "metadata": {},
     "output_type": "display_data"
    }
   ],
   "execution_count": 37
  },
  {
   "metadata": {
    "ExecuteTime": {
     "end_time": "2024-11-29T14:57:53.044663Z",
     "start_time": "2024-11-29T14:57:52.948674Z"
    }
   },
   "cell_type": "code",
   "source": [
    "a4_dims = (12, 8)\n",
    "fig, ax = plt.subplots(figsize=a4_dims)\n",
    "sns.boxplot(ax=ax,data=data, x=\"Query Sample\", y=\"Error on materialized\", hue=\"Initial Sample\",)"
   ],
   "id": "a03e224062ffd584",
   "outputs": [
    {
     "data": {
      "text/plain": [
       "<Axes: xlabel='Query Sample', ylabel='Error on materialized'>"
      ]
     },
     "execution_count": 6,
     "metadata": {},
     "output_type": "execute_result"
    },
    {
     "data": {
      "text/plain": [
       "<Figure size 1200x800 with 1 Axes>"
      ],
      "image/png": "[encoded data removed]"
     },
     "metadata": {},
     "output_type": "display_data"
    }
   ],
   "execution_count": 6
  },
  {
   "metadata": {},
   "cell_type": "code",
   "outputs": [],
   "execution_count": null,
   "source": "",
   "id": "265a26f0e0262361"
  }
 ],
 "metadata": {
  "kernelspec": {
   "display_name": "Python 3",
   "language": "python",
   "name": "python3"
  },
  "language_info": {
   "codemirror_mode": {
    "name": "ipython",
    "version": 2
   },
   "file_extension": ".py",
   "mimetype": "text/x-python",
   "name": "python",
   "nbconvert_exporter": "python",
   "pygments_lexer": "ipython2",
   "version": "2.7.6"
  }
 },
 "nbformat": 4,
 "nbformat_minor": 5
}
